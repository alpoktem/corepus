{
 "cells": [
  {
   "cell_type": "code",
   "execution_count": 1,
   "metadata": {},
   "outputs": [],
   "source": [
    "import pandas as pd\n",
    "import re\n",
    "import random\n",
    "import csv"
   ]
  },
  {
   "cell_type": "code",
   "execution_count": 2,
   "metadata": {},
   "outputs": [
    {
     "name": "stdout",
     "output_type": "stream",
     "text": [
      "10000\n"
     ]
    }
   ],
   "source": [
    "dataset_path = \"/Users/alp/Documents/TWB/data/Gamayun-kits/parallel/hau-eng/en-kit10k-v1/gamayun_kit10k-v1_eng-hau_HAU.txt\"\n",
    "hausa_sents = pd.read_csv(dataset_path, sep='\\t', header=None)\n",
    "hausa_sents = hausa_sents.rename(columns={0:'HA'})\n",
    "hausa_sents.index += 1 \n",
    "print(len(hausa_sents))"
   ]
  },
  {
   "cell_type": "code",
   "execution_count": 3,
   "metadata": {},
   "outputs": [],
   "source": [
    "boynames_en_path = \"/Users/alp/Documents/TWB/play/corepus-gen/etc/boynames_extended_EN.txt\"\n",
    "girlnames_en_path = \"/Users/alp/Documents/TWB/play/corepus-gen/etc/girlnames_extended_EN.txt\"\n",
    "boynames_ha_path = \"/Users/alp/Documents/TWB/play/corepus-gen/etc/boynames_HA.txt\"\n",
    "girlnames_ha_path = \"/Users/alp/Documents/TWB/play/corepus-gen/etc/girlnames_HA.txt\"\n",
    "\n",
    "boynames_en = list(set([line.strip() for line in open(boynames_en_path)]))\n",
    "boynames_en.sort(key = lambda x:len(x))\n",
    "boynames_en = list(reversed(boynames_en))\n",
    "girlnames_en = list(set([line.strip() for line in open(girlnames_en_path)]))\n",
    "girlnames_en.sort(key = lambda x:len(x))\n",
    "girlnames_en = list(reversed(girlnames_en))\n",
    "boynames_ha = [line.strip() for line in open(boynames_ha_path)]\n",
    "girlnames_ha = [line.strip() for line in open(girlnames_ha_path)]"
   ]
  },
  {
   "cell_type": "code",
   "execution_count": 5,
   "metadata": {},
   "outputs": [],
   "source": [
    "all_names_re = re.compile('|'.join(map(re.escape, boynames_en + girlnames_en)))\n",
    "boy_names_re = re.compile('|'.join(map(re.escape, boynames_en)))\n",
    "girl_names_re = re.compile('|'.join(map(re.escape, girlnames_en)))\n",
    "\n",
    "def hausify(row):\n",
    "    hausified_sent = row[\"HA\"]\n",
    "    change=False\n",
    "    #print(sample_sent)\n",
    "    while all_names_re.search(hausified_sent):\n",
    "        change=True\n",
    "        a_boy_name = boynames_ha[random.randint(0,len(boynames_ha) - 1)]\n",
    "        a_girl_name = girlnames_ha[random.randint(0,len(girlnames_ha) - 1)]\n",
    "        hausified_sent = boy_names_re.sub(a_boy_name, hausified_sent, 1)\n",
    "        hausified_sent = girl_names_re.sub(a_girl_name, hausified_sent, 1)\n",
    "        #print(\">\", hausified_sent)\n",
    "    if change:\n",
    "        row[\"HA\"] = hausified_sent\n",
    "    return row\n",
    "\n",
    "hausified_hausa_sents = hausa_sents.apply(hausify, axis=1)"
   ]
  },
  {
   "cell_type": "code",
   "execution_count": 6,
   "metadata": {},
   "outputs": [],
   "source": [
    "hausified_hausa_sents.to_csv('hausified_hausa_medium.txt', sep=\"\\t\", index=False, header=False, columns = ['HA'])"
   ]
  },
  {
   "cell_type": "code",
   "execution_count": null,
   "metadata": {},
   "outputs": [],
   "source": []
  }
 ],
 "metadata": {
  "kernelspec": {
   "display_name": "Python 3",
   "language": "python",
   "name": "python3"
  },
  "language_info": {
   "codemirror_mode": {
    "name": "ipython",
    "version": 3
   },
   "file_extension": ".py",
   "mimetype": "text/x-python",
   "name": "python",
   "nbconvert_exporter": "python",
   "pygments_lexer": "ipython3",
   "version": "3.7.9"
  }
 },
 "nbformat": 4,
 "nbformat_minor": 2
}
